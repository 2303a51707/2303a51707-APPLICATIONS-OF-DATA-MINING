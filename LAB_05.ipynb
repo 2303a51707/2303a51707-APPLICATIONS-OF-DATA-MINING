{
  "nbformat": 4,
  "nbformat_minor": 0,
  "metadata": {
    "colab": {
      "provenance": [],
      "authorship_tag": "ABX9TyNghO+QxxcKFdt4oa9M8ZMT",
      "include_colab_link": true
    },
    "kernelspec": {
      "name": "python3",
      "display_name": "Python 3"
    },
    "language_info": {
      "name": "python"
    }
  },
  "cells": [
    {
      "cell_type": "markdown",
      "metadata": {
        "id": "view-in-github",
        "colab_type": "text"
      },
      "source": [
        "<a href=\"https://colab.research.google.com/github/2303a51707/2303a51707-APPLICATIONS-OF-DATA-MINING/blob/main/LAB_05.ipynb\" target=\"_parent\"><img src=\"https://colab.research.google.com/assets/colab-badge.svg\" alt=\"Open In Colab\"/></a>"
      ]
    },
    {
      "cell_type": "code",
      "execution_count": 1,
      "metadata": {
        "colab": {
          "base_uri": "https://localhost:8080/"
        },
        "id": "CrzIZpgFeHu5",
        "outputId": "9d0b09a8-cdd6-4e6a-ba4d-b669bc0dabbf"
      },
      "outputs": [
        {
          "output_type": "stream",
          "name": "stdout",
          "text": [
            "Warning: Looks like you're using an outdated `kagglehub` version (installed: 0.3.6), please consider upgrading to the latest version (0.3.7).\n",
            "Downloading from https://www.kaggle.com/api/v1/datasets/download/heeraldedhia/groceries-dataset?dataset_version_number=1...\n"
          ]
        },
        {
          "output_type": "stream",
          "name": "stderr",
          "text": [
            "100%|██████████| 257k/257k [00:00<00:00, 54.1MB/s]"
          ]
        },
        {
          "output_type": "stream",
          "name": "stdout",
          "text": [
            "Extracting files...\n",
            "Path to dataset files: /root/.cache/kagglehub/datasets/heeraldedhia/groceries-dataset/versions/1\n"
          ]
        },
        {
          "output_type": "stream",
          "name": "stderr",
          "text": [
            "\n"
          ]
        }
      ],
      "source": [
        "import kagglehub\n",
        "\n",
        "# Download latest version\n",
        "path = kagglehub.dataset_download(\"heeraldedhia/groceries-dataset\")\n",
        "\n",
        "print(\"Path to dataset files:\", path)"
      ]
    },
    {
      "cell_type": "code",
      "source": [
        "import kagglehub\n",
        "import pandas as pd\n",
        "from mlxtend.frequent_patterns import apriori, association_rules"
      ],
      "metadata": {
        "id": "TR2wmRlYegti"
      },
      "execution_count": 2,
      "outputs": []
    },
    {
      "cell_type": "code",
      "source": [
        "path = kagglehub.dataset_download(\"heeraldedhia/groceries-dataset\")\n",
        "print(\"Dataset downloaded at:\", path)"
      ],
      "metadata": {
        "colab": {
          "base_uri": "https://localhost:8080/"
        },
        "id": "m8Rvqvrjf4gk",
        "outputId": "b21f8ae3-15da-457b-a8fe-f3448acb3147"
      },
      "execution_count": 3,
      "outputs": [
        {
          "output_type": "stream",
          "name": "stdout",
          "text": [
            "Warning: Looks like you're using an outdated `kagglehub` version (installed: 0.3.6), please consider upgrading to the latest version (0.3.7).\n",
            "Dataset downloaded at: /root/.cache/kagglehub/datasets/heeraldedhia/groceries-dataset/versions/1\n"
          ]
        }
      ]
    },
    {
      "cell_type": "code",
      "source": [
        "file_path = path + \"/Groceries_dataset.csv\"  # Adjust the file path if needed\n",
        "df = pd.read_csv(file_path)\n"
      ],
      "metadata": {
        "id": "y0f4E1wkf8pA"
      },
      "execution_count": 4,
      "outputs": []
    },
    {
      "cell_type": "code",
      "source": [
        "df['Date'] = pd.to_datetime(df['Date'])  # Convert Date column\n",
        "df.drop(columns=['Member_number', 'Date'], inplace=True)  # Drop unnecessary columns\n"
      ],
      "metadata": {
        "colab": {
          "base_uri": "https://localhost:8080/"
        },
        "id": "Oc2936HOgLpf",
        "outputId": "1565a1b9-b2e3-42da-adbf-864e6a4ccf11"
      },
      "execution_count": 5,
      "outputs": [
        {
          "output_type": "stream",
          "name": "stderr",
          "text": [
            "<ipython-input-5-1d09e2b8bc09>:1: UserWarning: Parsing dates in %d-%m-%Y format when dayfirst=False (the default) was specified. Pass `dayfirst=True` or specify a format to silence this warning.\n",
            "  df['Date'] = pd.to_datetime(df['Date'])  # Convert Date column\n"
          ]
        }
      ]
    },
    {
      "cell_type": "code",
      "source": [
        "transactions = df.groupby(\"itemDescription\")[\"itemDescription\"].apply(list).tolist() # The 'Transaction' column does not exist. 'itemDescription' likely intended."
      ],
      "metadata": {
        "id": "yPFBZEhoggEJ"
      },
      "execution_count": 7,
      "outputs": []
    },
    {
      "cell_type": "code",
      "source": [
        "items = sorted(set(item for transaction in transactions for item in transaction))\n",
        "df_encoded = pd.DataFrame([{item: (item in transaction) for item in items} for transaction in transactions])"
      ],
      "metadata": {
        "id": "cwIonBfAgih2"
      },
      "execution_count": 8,
      "outputs": []
    },
    {
      "cell_type": "code",
      "source": [
        "min_support = 0.02  # Adjust as needed\n",
        "frequent_itemsets = apriori(df_encoded, min_support=min_support, use_colnames=True)"
      ],
      "metadata": {
        "id": "DZ8hoGfegrVN"
      },
      "execution_count": 9,
      "outputs": []
    },
    {
      "cell_type": "code",
      "source": [
        "min_support = 0.005  # Reduced min_support to potentially capture more frequent itemsets\n",
        "frequent_itemsets = apriori(df_encoded, min_support=min_support, use_colnames=True)\n",
        "\n",
        "min_confidence = 0.3  # Adjust as needed\n",
        "rules = association_rules(frequent_itemsets, metric=\"confidence\", min_threshold=min_confidence)"
      ],
      "metadata": {
        "id": "0liqHc0HhALK"
      },
      "execution_count": 11,
      "outputs": []
    },
    {
      "cell_type": "code",
      "source": [
        "print(\"Frequent Itemsets:\")\n",
        "print(frequent_itemsets.head())\n",
        "\n",
        "print(\"\\nAssociation Rules:\")\n",
        "print(rules[['antecedents', 'consequents', 'support', 'confidence', 'lift']].head())"
      ],
      "metadata": {
        "colab": {
          "base_uri": "https://localhost:8080/"
        },
        "id": "iFcWNOWPhGim",
        "outputId": "4a0f6c72-9e20-4052-c73e-c0e10c75e555"
      },
      "execution_count": 12,
      "outputs": [
        {
          "output_type": "stream",
          "name": "stdout",
          "text": [
            "Frequent Itemsets:\n",
            "    support                 itemsets\n",
            "0  0.005988  (Instant food products)\n",
            "1  0.005988               (UHT-milk)\n",
            "2  0.005988       (abrasive cleaner)\n",
            "3  0.005988       (artif. sweetener)\n",
            "4  0.005988         (baby cosmetics)\n",
            "\n",
            "Association Rules:\n",
            "Empty DataFrame\n",
            "Columns: [antecedents, consequents, support, confidence, lift]\n",
            "Index: []\n"
          ]
        }
      ]
    }
  ]
}