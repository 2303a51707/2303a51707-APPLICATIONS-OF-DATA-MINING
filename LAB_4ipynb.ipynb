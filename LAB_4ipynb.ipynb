{
  "nbformat": 4,
  "nbformat_minor": 0,
  "metadata": {
    "colab": {
      "provenance": [],
      "authorship_tag": "ABX9TyOTR3nhDEWJHgMlMMnmjlRz",
      "include_colab_link": true
    },
    "kernelspec": {
      "name": "python3",
      "display_name": "Python 3"
    },
    "language_info": {
      "name": "python"
    }
  },
  "cells": [
    {
      "cell_type": "markdown",
      "metadata": {
        "id": "view-in-github",
        "colab_type": "text"
      },
      "source": [
        "<a href=\"https://colab.research.google.com/github/2303a51707/2303a51707-APPLICATIONS-OF-DATA-MINING/blob/main/LAB_4ipynb.ipynb\" target=\"_parent\"><img src=\"https://colab.research.google.com/assets/colab-badge.svg\" alt=\"Open In Colab\"/></a>"
      ]
    },
    {
      "cell_type": "code",
      "execution_count": 1,
      "metadata": {
        "id": "9ro-Xejlhc7x"
      },
      "outputs": [],
      "source": [
        "import pandas as pd\n",
        "from sklearn.preprocessing import LabelEncoder"
      ]
    },
    {
      "cell_type": "code",
      "source": [
        "data = {\n",
        "      'Name': ['Alice', 'Bob', 'Charlie', 'David', 'Eve'],\n",
        "          'Gender': ['Female', 'Male', 'Male', 'Male', 'Female'],\n",
        "              'DOB': ['1990-05-15', '1985-10-22', '1992-07-08', '1988-03-25', '1995-12-30'],\n",
        "                  'City': ['New York', 'Los Angeles', 'Chicago', 'Houston', 'Phoenix'],\n",
        "                      'Salary': [70000, 80000, 75000, 90000, 65000]\n",
        "                      }\n",
        "\n"
      ],
      "metadata": {
        "id": "RjTxjXJGh571"
      },
      "execution_count": 3,
      "outputs": []
    },
    {
      "cell_type": "code",
      "source": [
        "df = pd.DataFrame(data)"
      ],
      "metadata": {
        "id": "CFZrt4JsiB8p"
      },
      "execution_count": 4,
      "outputs": []
    },
    {
      "cell_type": "code",
      "source": [
        "df['DOB'] = pd.to_datetime(df['DOB'])\n",
        "df['Age'] = pd.Timestamp.now().year - df['DOB'].dt.year"
      ],
      "metadata": {
        "id": "PTzen8bKiFNa"
      },
      "execution_count": 5,
      "outputs": []
    },
    {
      "cell_type": "code",
      "source": [
        "label_encoder = LabelEncoder()\n",
        "df['Gender_Label'] = label_encoder.fit_transform(df['Gender'])\n"
      ],
      "metadata": {
        "id": "lkSYAM2UiIul"
      },
      "execution_count": 6,
      "outputs": []
    },
    {
      "cell_type": "code",
      "source": [
        "df = pd.get_dummies(df, columns=['City'])"
      ],
      "metadata": {
        "id": "hm1ZLHWRiMN-"
      },
      "execution_count": 7,
      "outputs": []
    },
    {
      "cell_type": "code",
      "source": [
        "grouped_df = df.groupby('Gender')['Salary'].mean().reset_index()\n",
        "print(\"Average Salary by Gender:\")\n",
        "print(grouped_df)"
      ],
      "metadata": {
        "colab": {
          "base_uri": "https://localhost:8080/"
        },
        "id": "qKF7TfJbiP3o",
        "outputId": "f9e81eb8-1002-4a41-b4db-31cceccbf90a"
      },
      "execution_count": 8,
      "outputs": [
        {
          "output_type": "stream",
          "name": "stdout",
          "text": [
            "Average Salary by Gender:\n",
            "   Gender        Salary\n",
            "0  Female  67500.000000\n",
            "1    Male  81666.666667\n"
          ]
        }
      ]
    },
    {
      "cell_type": "code",
      "source": [
        "pivot_df = df.pivot_table(values='Salary', index='Gender', columns='Age', aggfunc='mean', fill_value=0)\n",
        "print(\"\\nPivot Table (Salary by Gender and Age):\")\n",
        "print(pivot_df)"
      ],
      "metadata": {
        "colab": {
          "base_uri": "https://localhost:8080/"
        },
        "id": "hvJ-hKwoiVkB",
        "outputId": "15201e9c-38eb-44d5-c549-485a38696bf5"
      },
      "execution_count": 9,
      "outputs": [
        {
          "output_type": "stream",
          "name": "stdout",
          "text": [
            "\n",
            "Pivot Table (Salary by Gender and Age):\n",
            "Age          30       33       35       37       40\n",
            "Gender                                             \n",
            "Female  65000.0      0.0  70000.0      0.0      0.0\n",
            "Male        0.0  75000.0      0.0  90000.0  80000.0\n"
          ]
        }
      ]
    },
    {
      "cell_type": "code",
      "source": [
        "print(\"\\nTransformed DataFrame:\")\n",
        "print(df)\n"
      ],
      "metadata": {
        "colab": {
          "base_uri": "https://localhost:8080/"
        },
        "id": "xu-y_JbxiYIV",
        "outputId": "ef550b92-799f-4a53-9822-ba56746009b7"
      },
      "execution_count": 10,
      "outputs": [
        {
          "output_type": "stream",
          "name": "stdout",
          "text": [
            "\n",
            "Transformed DataFrame:\n",
            "      Name  Gender        DOB  Salary  Age  Gender_Label  City_Chicago  \\\n",
            "0    Alice  Female 1990-05-15   70000   35             0         False   \n",
            "1      Bob    Male 1985-10-22   80000   40             1         False   \n",
            "2  Charlie    Male 1992-07-08   75000   33             1          True   \n",
            "3    David    Male 1988-03-25   90000   37             1         False   \n",
            "4      Eve  Female 1995-12-30   65000   30             0         False   \n",
            "\n",
            "   City_Houston  City_Los Angeles  City_New York  City_Phoenix  \n",
            "0         False             False           True         False  \n",
            "1         False              True          False         False  \n",
            "2         False             False          False         False  \n",
            "3          True             False          False         False  \n",
            "4         False             False          False          True  \n"
          ]
        }
      ]
    }
  ]
}