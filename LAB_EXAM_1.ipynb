{
  "nbformat": 4,
  "nbformat_minor": 0,
  "metadata": {
    "colab": {
      "provenance": [],
      "authorship_tag": "ABX9TyNpKx0GdTDKNEXm+OGE6loQ",
      "include_colab_link": true
    },
    "kernelspec": {
      "name": "python3",
      "display_name": "Python 3"
    },
    "language_info": {
      "name": "python"
    }
  },
  "cells": [
    {
      "cell_type": "markdown",
      "metadata": {
        "id": "view-in-github",
        "colab_type": "text"
      },
      "source": [
        "<a href=\"https://colab.research.google.com/github/2303a51707/2303a51707-APPLICATIONS-OF-DATA-MINING/blob/main/LAB_EXAM_1.ipynb\" target=\"_parent\"><img src=\"https://colab.research.google.com/assets/colab-badge.svg\" alt=\"Open In Colab\"/></a>"
      ]
    },
    {
      "cell_type": "code",
      "source": [
        "import pandas as pd\n",
        "\n",
        "\n",
        "uni = pd.read_csv(\"university_student.csv\")\n",
        "print(\"First 10 rows:\")\n",
        "print(uni.head(10))\n",
        "print(\"\\nMissing values:\")\n",
        "print(uni.isnull().sum())\n",
        "uni.fillna(method='ffill', inplace=True)\n"
      ],
      "metadata": {
        "colab": {
          "base_uri": "https://localhost:8080/"
        },
        "id": "w9LtGvwKv6q5",
        "outputId": "2d4de353-dde3-418e-97c3-31ebf5b66507"
      },
      "execution_count": 14,
      "outputs": [
        {
          "output_type": "stream",
          "name": "stdout",
          "text": [
            "First 10 rows:\n",
            "   Student ID  Gender Date of Birth  Study Time Grade School Type  Absences  \\\n",
            "0           1    Male    1996-12-03          11     D      Public         2   \n",
            "1           2  Female    2001-09-15           5     D     Private         0   \n",
            "2           3    Male    2002-08-09           8     A     Private         2   \n",
            "3           4    Male    1999-04-29           8     A     Private         3   \n",
            "4           5    Male    1995-06-11           9     B     Private         1   \n",
            "5           6  Female    1995-07-21          11     A     Private         1   \n",
            "6           7    Male    2000-06-04          11     C      Public         4   \n",
            "7           8    Male    1997-09-22          15     D     Private         1   \n",
            "8           9    Male    2001-05-06           8     A      Public         4   \n",
            "9          10  Female    2005-10-09          11     A     Private         5   \n",
            "\n",
            "   Math Score  Reading Score  Writing Score  \n",
            "0          72             91             69  \n",
            "1          66             58             62  \n",
            "2          75             99             77  \n",
            "3          57             76             97  \n",
            "4          78             51             78  \n",
            "5          75             54             62  \n",
            "6          59             78             95  \n",
            "7          75             86             84  \n",
            "8          83             87             55  \n",
            "9         100             68             67  \n",
            "\n",
            "Missing values:\n",
            "Student ID       0\n",
            "Gender           0\n",
            "Date of Birth    0\n",
            "Study Time       0\n",
            "Grade            0\n",
            "School Type      0\n",
            "Absences         0\n",
            "Math Score       0\n",
            "Reading Score    0\n",
            "Writing Score    0\n",
            "dtype: int64\n"
          ]
        },
        {
          "output_type": "stream",
          "name": "stderr",
          "text": [
            "<ipython-input-14-f3fb5911a746>:9: FutureWarning: DataFrame.fillna with 'method' is deprecated and will raise in a future version. Use obj.ffill() or obj.bfill() instead.\n",
            "  uni.fillna(method='ffill', inplace=True)\n"
          ]
        }
      ]
    },
    {
      "cell_type": "code",
      "source": [
        "uni_encoded = pd.get_dummies(uni, columns=['Gender', 'School Type'])\n",
        "print(\"\\nDataset after one-hot encoding:\")\n",
        "print(uni_encoded.head())\n"
      ],
      "metadata": {
        "colab": {
          "base_uri": "https://localhost:8080/"
        },
        "id": "A3OKClg_wwQ2",
        "outputId": "1be5ffea-afb2-405f-909a-ff7ad09be1aa"
      },
      "execution_count": 7,
      "outputs": [
        {
          "output_type": "stream",
          "name": "stdout",
          "text": [
            "\n",
            "Dataset after one-hot encoding:\n",
            "   Student ID Date of Birth  Study Time Grade  Absences  Math Score  \\\n",
            "0           1    1996-12-03          11     D         2          72   \n",
            "1           2    2001-09-15           5     D         0          66   \n",
            "2           3    2002-08-09           8     A         2          75   \n",
            "3           4    1999-04-29           8     A         3          57   \n",
            "4           5    1995-06-11           9     B         1          78   \n",
            "\n",
            "   Reading Score  Writing Score  Gender_Female  Gender_Male  \\\n",
            "0             91             69          False         True   \n",
            "1             58             62           True        False   \n",
            "2             99             77          False         True   \n",
            "3             76             97          False         True   \n",
            "4             51             78          False         True   \n",
            "\n",
            "   School Type_Private  School Type_Public  \n",
            "0                False                True  \n",
            "1                 True               False  \n",
            "2                 True               False  \n",
            "3                 True               False  \n",
            "4                 True               False  \n"
          ]
        }
      ]
    },
    {
      "cell_type": "code",
      "source": [
        "\n",
        "school_counts = uni['School Type'].value_counts()\n",
        "print(\"\\nTotal number of students per School Type:\")\n",
        "print(school_counts)"
      ],
      "metadata": {
        "colab": {
          "base_uri": "https://localhost:8080/"
        },
        "id": "DATKkePfxWIV",
        "outputId": "d1247f06-6a3c-4553-dd13-e62035dd24c5"
      },
      "execution_count": 13,
      "outputs": [
        {
          "output_type": "stream",
          "name": "stdout",
          "text": [
            "\n",
            "Total number of students per School Type:\n",
            "School Type\n",
            "Private    59\n",
            "Public     41\n",
            "Name: count, dtype: int64\n"
          ]
        }
      ]
    },
    {
      "cell_type": "code",
      "source": [
        "math_stats = uni['Math Score'].agg(['mean', 'median', 'std'])\n",
        "print(\"\\nMath Score Statistics:\")\n",
        "print(math_stats)\n",
        "4"
      ],
      "metadata": {
        "colab": {
          "base_uri": "https://localhost:8080/"
        },
        "id": "PdhAkObXzMog",
        "outputId": "d27c6d6a-5052-49b2-9abf-0fc9c9a39d8c"
      },
      "execution_count": 17,
      "outputs": [
        {
          "output_type": "stream",
          "name": "stdout",
          "text": [
            "\n",
            "Math Score Statistics:\n",
            "mean      76.030000\n",
            "median    74.500000\n",
            "std       13.481341\n",
            "Name: Math Score, dtype: float64\n"
          ]
        },
        {
          "output_type": "execute_result",
          "data": {
            "text/plain": [
              "4"
            ]
          },
          "metadata": {},
          "execution_count": 17
        }
      ]
    }
  ]
}